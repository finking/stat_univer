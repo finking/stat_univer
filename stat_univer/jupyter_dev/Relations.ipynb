{
 "cells": [
  {
   "cell_type": "code",
   "execution_count": 18,
   "id": "ed557aeb",
   "metadata": {},
   "outputs": [],
   "source": [
    "# Загрузка моделей\n",
    "from main.models import Institute, Departure, Plan, VAK\n",
    "\n",
    "from django.db.models import Sum\n",
    "from django.db.models.query import QuerySet"
   ]
  },
  {
   "cell_type": "code",
   "execution_count": 2,
   "id": "2e4cb9e2",
   "metadata": {},
   "outputs": [],
   "source": [
    "# Настройка для исключения ошибки \n",
    "# SynchronousOnlyOperation: You cannot call this from an async context - use a thread or sync_to_async\n",
    "# https://stackoverflow.com/questions/61926359/django-synchronousonlyoperation-you-cannot-call-this-from-an-async-context-u\n",
    "import os\n",
    "import django\n",
    "os.environ.setdefault('DJANGO_SETTINGS_MODULE', 'rest.settings')\n",
    "os.environ[\"DJANGO_ALLOW_ASYNC_UNSAFE\"] = \"true\"\n",
    "django.setup()"
   ]
  },
  {
   "cell_type": "code",
   "execution_count": 3,
   "id": "bb0c9ced",
   "metadata": {},
   "outputs": [
    {
     "data": {
      "text/plain": [
       "<Departure: КафедраДизайна>"
      ]
     },
     "execution_count": 3,
     "metadata": {},
     "output_type": "execute_result"
    }
   ],
   "source": [
    "# Получения одной кафедры\n",
    "dep = Departure.objects.get(id=1)\n",
    "dep"
   ]
  },
  {
   "cell_type": "code",
   "execution_count": 4,
   "id": "9f0faba8",
   "metadata": {},
   "outputs": [],
   "source": [
    "# Атрибуты и методы по полученной Кафедры\n",
    "# dir(dep)"
   ]
  },
  {
   "cell_type": "code",
   "execution_count": 5,
   "id": "f5942565",
   "metadata": {},
   "outputs": [
    {
     "data": {
      "text/plain": [
       "<QuerySet [<Plan: Plan object (1)>, <Plan: Plan object (2)>, <Plan: Plan object (3)>]>"
      ]
     },
     "execution_count": 5,
     "metadata": {},
     "output_type": "execute_result"
    }
   ],
   "source": [
    "# Получение плана по всем показателям\n",
    "plan = Plan.objects.all()\n",
    "plan"
   ]
  },
  {
   "cell_type": "code",
   "execution_count": 6,
   "id": "c1498021",
   "metadata": {},
   "outputs": [],
   "source": [
    "# Атрибуты и методы QuerySet`а\n",
    "# dir(plan)"
   ]
  },
  {
   "cell_type": "code",
   "execution_count": 7,
   "id": "00daae45",
   "metadata": {},
   "outputs": [
    {
     "data": {
      "text/plain": [
       "{'model': main.models.Plan,\n",
       " '_db': None,\n",
       " '_hints': {},\n",
       " '_query': <django.db.models.sql.query.Query at 0x761fee0>,\n",
       " '_result_cache': None,\n",
       " '_sticky_filter': False,\n",
       " '_for_write': False,\n",
       " '_prefetch_related_lookups': (),\n",
       " '_prefetch_done': False,\n",
       " '_known_related_objects': {},\n",
       " '_iterable_class': django.db.models.query.ModelIterable,\n",
       " '_fields': None,\n",
       " '_defer_next_filter': False,\n",
       " '_deferred_filter': None}"
      ]
     },
     "execution_count": 7,
     "metadata": {},
     "output_type": "execute_result"
    }
   ],
   "source": [
    "plan.__dict__"
   ]
  },
  {
   "cell_type": "code",
   "execution_count": 8,
   "id": "1ef9fc0f",
   "metadata": {},
   "outputs": [
    {
     "data": {
      "text/plain": [
       "<QuerySet [{'id': 1, 'Departure_id': 1, 'Name': 'ВАК', 'Year': 2023, 'Value': 7.0}, {'id': 2, 'Departure_id': 3, 'Name': 'ВАК', 'Year': 2023, 'Value': 9.0}, {'id': 3, 'Departure_id': 1, 'Name': 'МОНОГРАФИЯ', 'Year': 2023, 'Value': 1.0}]>"
      ]
     },
     "execution_count": 8,
     "metadata": {},
     "output_type": "execute_result"
    }
   ],
   "source": [
    "plan.values()"
   ]
  },
  {
   "cell_type": "code",
   "execution_count": 9,
   "id": "1cde6dbc",
   "metadata": {},
   "outputs": [
    {
     "data": {
      "text/plain": [
       "<QuerySet [(1, 1, 'ВАК', 2023, 7.0), (2, 3, 'ВАК', 2023, 9.0), (3, 1, 'МОНОГРАФИЯ', 2023, 1.0)]>"
      ]
     },
     "execution_count": 9,
     "metadata": {},
     "output_type": "execute_result"
    }
   ],
   "source": [
    "plan.values_list()"
   ]
  },
  {
   "cell_type": "code",
   "execution_count": 10,
   "id": "0a93732b",
   "metadata": {},
   "outputs": [
    {
     "data": {
      "text/plain": [
       "['Departure',\n",
       " 'Departure_id',\n",
       " 'DoesNotExist',\n",
       " 'MultipleObjectsReturned',\n",
       " 'Name',\n",
       " 'Value',\n",
       " 'Year',\n",
       " '__class__',\n",
       " '__delattr__',\n",
       " '__dict__',\n",
       " '__dir__',\n",
       " '__doc__',\n",
       " '__eq__',\n",
       " '__format__',\n",
       " '__ge__',\n",
       " '__getattribute__',\n",
       " '__getstate__',\n",
       " '__gt__',\n",
       " '__hash__',\n",
       " '__init__',\n",
       " '__init_subclass__',\n",
       " '__le__',\n",
       " '__lt__',\n",
       " '__module__',\n",
       " '__ne__',\n",
       " '__new__',\n",
       " '__reduce__',\n",
       " '__reduce_ex__',\n",
       " '__repr__',\n",
       " '__setattr__',\n",
       " '__setstate__',\n",
       " '__sizeof__',\n",
       " '__str__',\n",
       " '__subclasshook__',\n",
       " '__weakref__',\n",
       " '_check_column_name_clashes',\n",
       " '_check_constraints',\n",
       " '_check_default_pk',\n",
       " '_check_field_name_clashes',\n",
       " '_check_fields',\n",
       " '_check_id_field',\n",
       " '_check_index_together',\n",
       " '_check_indexes',\n",
       " '_check_local_fields',\n",
       " '_check_long_column_names',\n",
       " '_check_m2m_through_same_relationship',\n",
       " '_check_managers',\n",
       " '_check_model',\n",
       " '_check_model_name_db_lookup_clashes',\n",
       " '_check_ordering',\n",
       " '_check_property_name_related_field_accessor_clashes',\n",
       " '_check_single_primary_key',\n",
       " '_check_swappable',\n",
       " '_check_unique_together',\n",
       " '_do_insert',\n",
       " '_do_update',\n",
       " '_get_FIELD_display',\n",
       " '_get_expr_references',\n",
       " '_get_next_or_previous_by_FIELD',\n",
       " '_get_next_or_previous_in_order',\n",
       " '_get_pk_val',\n",
       " '_get_unique_checks',\n",
       " '_meta',\n",
       " '_perform_date_checks',\n",
       " '_perform_unique_checks',\n",
       " '_prepare_related_fields_for_save',\n",
       " '_save_parents',\n",
       " '_save_table',\n",
       " '_set_pk_val',\n",
       " '_state',\n",
       " 'check',\n",
       " 'clean',\n",
       " 'clean_fields',\n",
       " 'date_error_message',\n",
       " 'delete',\n",
       " 'from_db',\n",
       " 'full_clean',\n",
       " 'get_Name_display',\n",
       " 'get_deferred_fields',\n",
       " 'id',\n",
       " 'objects',\n",
       " 'pk',\n",
       " 'prepare_database_save',\n",
       " 'refresh_from_db',\n",
       " 'save',\n",
       " 'save_base',\n",
       " 'serializable_value',\n",
       " 'unique_error_message',\n",
       " 'validate_unique']"
      ]
     },
     "execution_count": 10,
     "metadata": {},
     "output_type": "execute_result"
    }
   ],
   "source": [
    "# Атрибуты и методы конкретного показателя\n",
    "dir(plan[0])"
   ]
  },
  {
   "cell_type": "code",
   "execution_count": 11,
   "id": "8eee60e5",
   "metadata": {},
   "outputs": [
    {
     "data": {
      "text/plain": [
       "<Departure: КафедраДизайна>"
      ]
     },
     "execution_count": 11,
     "metadata": {},
     "output_type": "execute_result"
    }
   ],
   "source": [
    "plan[0].Departure"
   ]
  },
  {
   "cell_type": "markdown",
   "id": "e85086a1",
   "metadata": {},
   "source": [
    "Полное название можно получить через `get_Name_display()`, а фильтр по короткому названию `Name`"
   ]
  },
  {
   "cell_type": "code",
   "execution_count": 12,
   "id": "0f39e855",
   "metadata": {},
   "outputs": [
    {
     "data": {
      "text/plain": [
       "'Публикации ВАК'"
      ]
     },
     "execution_count": 12,
     "metadata": {},
     "output_type": "execute_result"
    }
   ],
   "source": [
    "plan[0].get_Name_display()"
   ]
  },
  {
   "cell_type": "code",
   "execution_count": 13,
   "id": "5c048b0f",
   "metadata": {},
   "outputs": [
    {
     "data": {
      "text/plain": [
       "<QuerySet [<Plan: Plan object (1)>, <Plan: Plan object (2)>]>"
      ]
     },
     "execution_count": 13,
     "metadata": {},
     "output_type": "execute_result"
    }
   ],
   "source": [
    "plan_vak = Plan.objects.filter(Name='ВАК')\n",
    "plan_vak"
   ]
  },
  {
   "cell_type": "code",
   "execution_count": 14,
   "id": "c0fb0bd3",
   "metadata": {},
   "outputs": [
    {
     "data": {
      "text/plain": [
       "{'_state': <django.db.models.base.ModelState at 0x789fa30>,\n",
       " 'id': 1,\n",
       " 'Departure_id': 1,\n",
       " 'Name': 'ВАК',\n",
       " 'Year': 2023,\n",
       " 'Value': 7.0}"
      ]
     },
     "execution_count": 14,
     "metadata": {},
     "output_type": "execute_result"
    }
   ],
   "source": [
    "# Получение запроса в виде словаря\n",
    "plan[0].__dict__"
   ]
  },
  {
   "cell_type": "markdown",
   "id": "9f9edc36",
   "metadata": {},
   "source": [
    "Получение плана по кафедре"
   ]
  },
  {
   "cell_type": "code",
   "execution_count": 15,
   "id": "8b3bbee7",
   "metadata": {},
   "outputs": [
    {
     "data": {
      "text/plain": [
       "['__call__',\n",
       " '__class__',\n",
       " '__class_getitem__',\n",
       " '__delattr__',\n",
       " '__dict__',\n",
       " '__dir__',\n",
       " '__doc__',\n",
       " '__eq__',\n",
       " '__format__',\n",
       " '__ge__',\n",
       " '__getattribute__',\n",
       " '__gt__',\n",
       " '__hash__',\n",
       " '__init__',\n",
       " '__init_subclass__',\n",
       " '__le__',\n",
       " '__lt__',\n",
       " '__module__',\n",
       " '__ne__',\n",
       " '__new__',\n",
       " '__reduce__',\n",
       " '__reduce_ex__',\n",
       " '__repr__',\n",
       " '__setattr__',\n",
       " '__sizeof__',\n",
       " '__slotnames__',\n",
       " '__str__',\n",
       " '__subclasshook__',\n",
       " '__weakref__',\n",
       " '_apply_rel_filters',\n",
       " '_constructor_args',\n",
       " '_db',\n",
       " '_get_queryset_methods',\n",
       " '_hints',\n",
       " '_insert',\n",
       " '_queryset_class',\n",
       " '_remove_prefetched_objects',\n",
       " '_set_creation_counter',\n",
       " '_update',\n",
       " 'add',\n",
       " 'aggregate',\n",
       " 'alias',\n",
       " 'all',\n",
       " 'annotate',\n",
       " 'auto_created',\n",
       " 'bulk_create',\n",
       " 'bulk_update',\n",
       " 'check',\n",
       " 'complex_filter',\n",
       " 'contains',\n",
       " 'contribute_to_class',\n",
       " 'core_filters',\n",
       " 'count',\n",
       " 'create',\n",
       " 'creation_counter',\n",
       " 'dates',\n",
       " 'datetimes',\n",
       " 'db',\n",
       " 'db_manager',\n",
       " 'deconstruct',\n",
       " 'defer',\n",
       " 'difference',\n",
       " 'distinct',\n",
       " 'do_not_call_in_templates',\n",
       " 'earliest',\n",
       " 'exclude',\n",
       " 'exists',\n",
       " 'explain',\n",
       " 'extra',\n",
       " 'field',\n",
       " 'filter',\n",
       " 'first',\n",
       " 'from_queryset',\n",
       " 'get',\n",
       " 'get_or_create',\n",
       " 'get_prefetch_queryset',\n",
       " 'get_queryset',\n",
       " 'in_bulk',\n",
       " 'instance',\n",
       " 'intersection',\n",
       " 'iterator',\n",
       " 'last',\n",
       " 'latest',\n",
       " 'model',\n",
       " 'name',\n",
       " 'none',\n",
       " 'only',\n",
       " 'order_by',\n",
       " 'prefetch_related',\n",
       " 'raw',\n",
       " 'reverse',\n",
       " 'select_for_update',\n",
       " 'select_related',\n",
       " 'set',\n",
       " 'union',\n",
       " 'update',\n",
       " 'update_or_create',\n",
       " 'use_in_migrations',\n",
       " 'using',\n",
       " 'values',\n",
       " 'values_list']"
      ]
     },
     "execution_count": 15,
     "metadata": {},
     "output_type": "execute_result"
    }
   ],
   "source": [
    "dir(dep.plan)"
   ]
  },
  {
   "cell_type": "markdown",
   "id": "72f4cef7",
   "metadata": {},
   "source": [
    "['__call__',\n",
    " '__class__',\n",
    " '__class_getitem__',\n",
    " '__delattr__',\n",
    " '__dict__',\n",
    " '__dir__',\n",
    " '__doc__',\n",
    " '__eq__',\n",
    " '__format__',\n",
    " '__ge__',\n",
    " '__getattribute__',\n",
    " '__gt__',\n",
    " '__hash__',\n",
    " '__init__',\n",
    " '__init_subclass__',\n",
    " '__le__',\n",
    " '__lt__',\n",
    " '__module__',\n",
    " '__ne__',\n",
    " '__new__',\n",
    " '__reduce__',\n",
    " '__reduce_ex__',\n",
    " '__repr__',\n",
    " '__setattr__',\n",
    " '__sizeof__',\n",
    " '__slotnames__',\n",
    " '__str__',\n",
    " '__subclasshook__',\n",
    " '__weakref__',\n",
    " '_apply_rel_filters',\n",
    " '_constructor_args',\n",
    " '_db',\n",
    " '_get_queryset_methods',\n",
    " '_hints',\n",
    " '_insert',\n",
    " '_queryset_class',\n",
    " '_remove_prefetched_objects',\n",
    " '_set_creation_counter',\n",
    " '_update',\n",
    " 'add',\n",
    " 'aggregate',\n",
    " 'alias',\n",
    " 'all',\n",
    " 'annotate',\n",
    " 'auto_created',\n",
    " 'bulk_create',\n",
    " 'bulk_update',\n",
    " 'check',\n",
    " 'complex_filter',\n",
    " 'contains',\n",
    " 'contribute_to_class',\n",
    " 'core_filters',\n",
    " 'count',\n",
    " 'create',\n",
    " 'creation_counter',\n",
    " 'dates',\n",
    " 'datetimes',\n",
    " 'db',\n",
    " 'db_manager',\n",
    " 'deconstruct',\n",
    " 'defer',\n",
    " 'difference',\n",
    " 'distinct',\n",
    " 'do_not_call_in_templates',\n",
    " 'earliest',\n",
    " 'exclude',\n",
    " 'exists',\n",
    " 'explain',\n",
    " 'extra',\n",
    " 'field',\n",
    " 'filter',\n",
    " 'first',\n",
    " 'from_queryset',\n",
    " 'get',\n",
    " 'get_or_create',\n",
    " 'get_prefetch_queryset',\n",
    " 'get_queryset',\n",
    " 'in_bulk',\n",
    " 'instance',\n",
    " 'intersection',\n",
    " 'iterator',\n",
    " 'last',\n",
    " 'latest',\n",
    " 'model',\n",
    " 'name',\n",
    " 'none',\n",
    " 'only',\n",
    " 'order_by',\n",
    " 'prefetch_related',\n",
    " 'raw',\n",
    " 'reverse',\n",
    " 'select_for_update',\n",
    " 'select_related',\n",
    " 'set',\n",
    " 'union',\n",
    " 'update',\n",
    " 'update_or_create',\n",
    " 'use_in_migrations',\n",
    " 'using',\n",
    " 'values',\n",
    " 'values_list']"
   ]
  },
  {
   "cell_type": "code",
   "execution_count": 16,
   "id": "00d29865",
   "metadata": {},
   "outputs": [
    {
     "data": {
      "text/plain": [
       "<QuerySet [{'id': 1, 'Departure_id': 1, 'Name': 'ВАК', 'Year': 2023, 'Value': 7.0}, {'id': 3, 'Departure_id': 1, 'Name': 'МОНОГРАФИЯ', 'Year': 2023, 'Value': 1.0}]>"
      ]
     },
     "execution_count": 16,
     "metadata": {},
     "output_type": "execute_result"
    }
   ],
   "source": [
    "dep.plan.values()\n",
    "# <QuerySet [{'id': 1, 'Departure_id': 1, 'Name': 'ВАК', 'Year': 2023, 'Value': 7.0},\n",
    "#            {'id': 3, 'Departure_id': 1, 'Name': 'МОНОГРАФИЯ', 'Year': 2023, 'Value': 1.0}]>"
   ]
  },
  {
   "cell_type": "code",
   "execution_count": 17,
   "id": "2aa0ab7d",
   "metadata": {},
   "outputs": [],
   "source": [
    "planVak = Institute.objects.annotate(total=Sum('departure__PlanVak'))"
   ]
  },
  {
   "cell_type": "markdown",
   "id": "1c28d866",
   "metadata": {},
   "source": [
    "### Получение информации по Институту с id=1"
   ]
  },
  {
   "cell_type": "code",
   "execution_count": 20,
   "id": "fb8eb977",
   "metadata": {},
   "outputs": [
    {
     "data": {
      "text/plain": [
       "<QuerySet [{'id': 1, 'Departure_id': 1, 'Name': 'ВАК', 'Year': 2023, 'Value': 7.0}, {'id': 3, 'Departure_id': 1, 'Name': 'МОНОГРАФИЯ', 'Year': 2023, 'Value': 1.0}, {'id': 2, 'Departure_id': 3, 'Name': 'ВАК', 'Year': 2023, 'Value': 9.0}]>"
      ]
     },
     "execution_count": 20,
     "metadata": {},
     "output_type": "execute_result"
    }
   ],
   "source": [
    "# Все плановые показатели для кафедр Определенного университета\n",
    "plan_first = Plan.objects.filter(Departure__IdInstitute=1)\n",
    "plan_first.values()"
   ]
  },
  {
   "cell_type": "code",
   "execution_count": 34,
   "id": "ee1c5221",
   "metadata": {},
   "outputs": [
    {
     "data": {
      "text/plain": [
       "<QuerySet [{'id': 1, 'Departure_id': 1, 'Name': 'ВАК', 'Year': 2023, 'Value': 7.0}, {'id': 2, 'Departure_id': 3, 'Name': 'ВАК', 'Year': 2023, 'Value': 9.0}]>"
      ]
     },
     "execution_count": 34,
     "metadata": {},
     "output_type": "execute_result"
    }
   ],
   "source": [
    "# Плановые показатели по ВАК для кафедр Определенного университета за определенный год\n",
    "plan_first = Plan.objects.filter(Departure__IdInstitute=1).filter(Name='ВАК', Year=2023)\n",
    "plan_first.values()"
   ]
  },
  {
   "cell_type": "code",
   "execution_count": 27,
   "id": "749057c2",
   "metadata": {},
   "outputs": [],
   "source": []
  },
  {
   "cell_type": "code",
   "execution_count": 77,
   "id": "967d7e52",
   "metadata": {},
   "outputs": [
    {
     "data": {
      "text/plain": [
       "16.0"
      ]
     },
     "execution_count": 77,
     "metadata": {},
     "output_type": "execute_result"
    }
   ],
   "source": [
    "# Общее значение\n",
    "VAK_value = Plan.objects.filter(Departure__IdInstitute=1).filter(Name='ВАК', Year=2023).aggregate(VAK=Sum(\"Value\", default=0))\n",
    "VAK_value['VAK'] "
   ]
  },
  {
   "cell_type": "code",
   "execution_count": 79,
   "id": "afb5e079",
   "metadata": {},
   "outputs": [
    {
     "data": {
      "text/plain": [
       "{'Value__sum': 16.0}"
      ]
     },
     "execution_count": 79,
     "metadata": {},
     "output_type": "execute_result"
    }
   ],
   "source": [
    "VAK_value = Plan.objects.filter(Departure__IdInstitute=1, Name='ВАК', Year=2023).aggregate(Sum(\"Value\", default=0))\n",
    "VAK_value"
   ]
  },
  {
   "cell_type": "markdown",
   "id": "7ffed406",
   "metadata": {},
   "source": [
    "### Получение информации по кафедре с определенным id"
   ]
  },
  {
   "cell_type": "code",
   "execution_count": 30,
   "id": "28fadad2",
   "metadata": {},
   "outputs": [
    {
     "data": {
      "text/plain": [
       "<QuerySet [{'id': 4, 'Departure_id': 2, 'Name': 'ДОХОД', 'Year': 2023, 'Value': 1000000.0}]>"
      ]
     },
     "execution_count": 30,
     "metadata": {},
     "output_type": "execute_result"
    }
   ],
   "source": [
    "# Плановые показатели по ВАК для кафедр Определенного университета за определенный год\n",
    "plan_dep_first = Plan.objects.filter(Departure=2).filter(Name='ДОХОД', Year=2023)\n",
    "plan_dep_first.values()"
   ]
  },
  {
   "cell_type": "code",
   "execution_count": 76,
   "id": "3527d8b8",
   "metadata": {},
   "outputs": [
    {
     "data": {
      "text/plain": [
       "7.0"
      ]
     },
     "execution_count": 76,
     "metadata": {},
     "output_type": "execute_result"
    }
   ],
   "source": [
    "plan_dep_first[0].Value"
   ]
  },
  {
   "cell_type": "markdown",
   "id": "bce31397",
   "metadata": {},
   "source": [
    "### Типы получаемых значений"
   ]
  },
  {
   "cell_type": "code",
   "execution_count": 48,
   "id": "24fa88e1",
   "metadata": {},
   "outputs": [],
   "source": [
    "inst_first = Institute.objects.first()\n",
    "dep_first = Departure.objects.filter(IdInstitute=1)"
   ]
  },
  {
   "cell_type": "code",
   "execution_count": 49,
   "id": "6bf0b85b",
   "metadata": {},
   "outputs": [
    {
     "name": "stdout",
     "output_type": "stream",
     "text": [
      "<class 'main.models.Institute'>\n",
      "<class 'django.db.models.query.QuerySet'>\n"
     ]
    }
   ],
   "source": [
    "print(type(inst_first))\n",
    "print(type(dep_first))"
   ]
  },
  {
   "cell_type": "markdown",
   "id": "56146558",
   "metadata": {},
   "source": [
    "### Получение значения из картежей"
   ]
  },
  {
   "cell_type": "code",
   "execution_count": 80,
   "id": "45951467",
   "metadata": {},
   "outputs": [],
   "source": [
    "PLANNAME = (\n",
    "    ('', 'Выберите показатель'),\n",
    "    ('ВАК', 'Количество публикаций в журналах ВАК'),\n",
    "    ('ТЕЗИСЫ_М', 'Количество тезисов в международных конференциях'),\n",
    "    ('ТЕЗИСЫ_Н', 'Количество тезисов в национальных конференциях'),\n",
    "    ('МОНОГРАФИЯ', 'Количество монографий'),\n",
    "    ('ДОХОД', 'Общий доход, руб.'),\n",
    "    ('РИД', 'РИД'),\n",
    ")"
   ]
  },
  {
   "cell_type": "code",
   "execution_count": 89,
   "id": "78d02e08",
   "metadata": {},
   "outputs": [],
   "source": [
    "_, Vak_name, Thes_M_name, Thes_N_name, Mono_name, Income_name, Rid_name = PLANNAME"
   ]
  },
  {
   "cell_type": "code",
   "execution_count": 90,
   "id": "fdf1561f",
   "metadata": {},
   "outputs": [
    {
     "data": {
      "text/plain": [
       "('ВАК', 'Количество публикаций в журналах ВАК')"
      ]
     },
     "execution_count": 90,
     "metadata": {},
     "output_type": "execute_result"
    }
   ],
   "source": [
    "Vak_name"
   ]
  },
  {
   "cell_type": "markdown",
   "id": "6924fc3c",
   "metadata": {},
   "source": [
    "### Получение конкретного значения из QuerySet"
   ]
  },
  {
   "cell_type": "code",
   "execution_count": 108,
   "id": "860d680e",
   "metadata": {},
   "outputs": [
    {
     "data": {
      "text/plain": [
       "<QuerySet [{'IdDeparture__IdInstitute__Name': 'Институт Дизайна', 'sum': 1.5}, {'IdDeparture__IdInstitute__Name': 'Институт экономики и финансов', 'sum': 0.5}]>"
      ]
     },
     "execution_count": 108,
     "metadata": {},
     "output_type": "execute_result"
    }
   ],
   "source": [
    "r=VAK.objects.filter(Accepted=True).values('IdDeparture__IdInstitute__Name').annotate(sum=Sum('Points'))\n",
    "r"
   ]
  },
  {
   "cell_type": "code",
   "execution_count": 109,
   "id": "0a679334",
   "metadata": {},
   "outputs": [
    {
     "data": {
      "text/plain": [
       "1.5"
      ]
     },
     "execution_count": 109,
     "metadata": {},
     "output_type": "execute_result"
    }
   ],
   "source": [
    "r[0]['sum']"
   ]
  },
  {
   "cell_type": "code",
   "execution_count": 113,
   "id": "65205172",
   "metadata": {},
   "outputs": [
    {
     "data": {
      "text/plain": [
       "{'sum': 1.5}"
      ]
     },
     "execution_count": 113,
     "metadata": {},
     "output_type": "execute_result"
    }
   ],
   "source": [
    "rv = VAK.objects.filter(Accepted=True, IdDeparture__IdInstitute=1).aggregate(sum=Sum('Points'))\n",
    "rv"
   ]
  },
  {
   "cell_type": "code",
   "execution_count": 111,
   "id": "724b2641",
   "metadata": {},
   "outputs": [
    {
     "data": {
      "text/plain": [
       "1.5"
      ]
     },
     "execution_count": 111,
     "metadata": {},
     "output_type": "execute_result"
    }
   ],
   "source": [
    "rv['sum']"
   ]
  },
  {
   "cell_type": "markdown",
   "id": "89cce2b1",
   "metadata": {},
   "source": [
    "### Получение факта для конкретной кафедры"
   ]
  },
  {
   "cell_type": "code",
   "execution_count": 25,
   "id": "a1d61863",
   "metadata": {},
   "outputs": [
    {
     "data": {
      "text/plain": [
       "0.0"
      ]
     },
     "execution_count": 25,
     "metadata": {},
     "output_type": "execute_result"
    }
   ],
   "source": [
    "res = Thesis.objects.filter(Accepted=True, IdDeparture=2, Year=2023, Type='M').aggregate(sum=Sum(\"Points\", default=0))\n",
    "res['sum']"
   ]
  },
  {
   "cell_type": "code",
   "execution_count": 16,
   "id": "7073424f",
   "metadata": {},
   "outputs": [
    {
     "data": {
      "text/plain": [
       "<QuerySet [{'id': 2, 'Name': 'Новый этап глобализации. Синергия классической и цифровой экономики', 'Year': 2023, 'Pages': None, 'DepartmentSame': 'test', 'DepartmentOther': None, 'Accepted': True, 'Points': 0.5, 'Comment': 'Как принято считать, некоторые особенности внутренней политики обнародованы. С учётом сложившейся международной обстановки, глубокий уровень погружения требует от нас анализа прогресса профессионального сообщества.', 'IdDeparture_id': 1, 'Author_id': 1, 'DateCreated': datetime.datetime(2023, 2, 15, 12, 7, 25, 967354, tzinfo=datetime.timezone.utc), 'DateUpdated': datetime.datetime(2023, 2, 15, 12, 7, 25, 982976, tzinfo=datetime.timezone.utc), 'Tom': None, 'Output': 'journal1', 'Url': 'https://elibrary.ru/defaultx.asp', 'sum': 0.5}]>"
      ]
     },
     "execution_count": 16,
     "metadata": {},
     "output_type": "execute_result"
    }
   ],
   "source": [
    "res.values()"
   ]
  },
  {
   "cell_type": "code",
   "execution_count": 27,
   "id": "381adf24",
   "metadata": {},
   "outputs": [
    {
     "data": {
      "text/plain": [
       "<QuerySet [<Thesis: Публикация по бизнесу1>]>"
      ]
     },
     "execution_count": 27,
     "metadata": {},
     "output_type": "execute_result"
    }
   ],
   "source": [
    "r = Thesis.objects.filter(Accepted=True, IdDeparture=2, Year=2023, Type='M')\n",
    "r"
   ]
  },
  {
   "cell_type": "code",
   "execution_count": null,
   "id": "69e1d8be",
   "metadata": {},
   "outputs": [],
   "source": []
  },
  {
   "cell_type": "markdown",
   "id": "18cf6493",
   "metadata": {},
   "source": [
    "**TODO:**  \n",
    "1. Уточнить понимание, когда применять `annotate` и `aggregate`**\n",
    "2. Какая разница по времени между запросом по Id института и по сумме всех полученных id кафедр"
   ]
  }
 ],
 "metadata": {
  "kernelspec": {
   "display_name": "Django Shell-Plus",
   "language": "python",
   "name": "django_extensions"
  },
  "language_info": {
   "codemirror_mode": {
    "name": "ipython",
    "version": 3
   },
   "file_extension": ".py",
   "mimetype": "text/x-python",
   "name": "python",
   "nbconvert_exporter": "python",
   "pygments_lexer": "ipython3",
   "version": "3.8.5"
  }
 },
 "nbformat": 4,
 "nbformat_minor": 5
}
