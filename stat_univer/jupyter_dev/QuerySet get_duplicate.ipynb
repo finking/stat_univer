{
 "cells": [
  {
   "cell_type": "code",
   "execution_count": 21,
   "id": "560fa58b",
   "metadata": {},
   "outputs": [],
   "source": [
    "# Настройка для исключения ошибки \n",
    "# SynchronousOnlyOperation: You cannot call this from an async context - use a thread or sync_to_async\n",
    "# https://stackoverflow.com/questions/61926359/django-synchronousonlyoperation-you-cannot-call-this-from-an-async-context-u\n",
    "import os\n",
    "import django\n",
    "\n",
    "os.environ.setdefault('DJANGO_SETTINGS_MODULE', 'rest.settings')\n",
    "os.environ[\"DJANGO_ALLOW_ASYNC_UNSAFE\"] = \"true\"\n",
    "django.setup()"
   ]
  },
  {
   "cell_type": "code",
   "execution_count": 22,
   "id": "04a21b07",
   "metadata": {},
   "outputs": [],
   "source": [
    "# Загрузка необходимых функций и модели\n",
    "from django.db.models import Count, Q\n",
    "from django.db.models.functions import Lower\n",
    "from main.models import VAK"
   ]
  },
  {
   "cell_type": "code",
   "execution_count": 23,
   "id": "7629684c",
   "metadata": {},
   "outputs": [
    {
     "name": "stdout",
     "output_type": "stream",
     "text": [
      "['sdf', 'test']\n"
     ]
    }
   ],
   "source": [
    "# Получение публикаций, которые имеют дубликаты\n",
    "# Приводим название к нижнему регистру и присваеваем этому полю lower_name\n",
    "# Группруем по новому полю lower_name\n",
    "# Считаем количетво публикаций и записываем количество в поле count\n",
    "# Фильтруем записи, где count больше 1 (есть дубликаты)\n",
    "# Получаем словарь с ключами lower_name и count\n",
    "duplicate_names = VAK.objects.annotate(lower_name=Lower('Name')).values('lower_name').annotate(count=Count('lower_name')).filter(Q(count__gt=1))\n",
    "\n",
    "# Формируем список из названием статей, которые хранятся в словаре duplicate_names с ключем 'lower_name'\n",
    "list_duplicate = [dn['lower_name'] for dn in duplicate_names]\n",
    "\n",
    "print(list_duplicate)"
   ]
  },
  {
   "cell_type": "code",
   "execution_count": 24,
   "id": "e9a839d8",
   "metadata": {},
   "outputs": [
    {
     "name": "stdout",
     "output_type": "stream",
     "text": [
      "<QuerySet [<VAK: test>, <VAK: sdf>, <VAK: sdf>, <VAK: Test>]>\n"
     ]
    }
   ],
   "source": [
    "# Формируем queryset из статей из списка дубляжей, предварительно приводя все названия публикаций к нижнему регистру\n",
    "vak_dupl = VAK.objects.annotate(lower_name=Lower('Name')).filter(lower_name__in=list_duplicate)\n",
    "print(vak_dupl)"
   ]
  },
  {
   "cell_type": "code",
   "execution_count": null,
   "id": "8db3865d",
   "metadata": {},
   "outputs": [],
   "source": []
  }
 ],
 "metadata": {
  "kernelspec": {
   "display_name": "Django Shell-Plus",
   "language": "python",
   "name": "django_extensions"
  },
  "language_info": {
   "codemirror_mode": {
    "name": "ipython",
    "version": 3
   },
   "file_extension": ".py",
   "mimetype": "text/x-python",
   "name": "python",
   "nbconvert_exporter": "python",
   "pygments_lexer": "ipython3",
   "version": "3.8.5"
  }
 },
 "nbformat": 4,
 "nbformat_minor": 5
}
