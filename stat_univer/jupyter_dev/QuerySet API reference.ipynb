{
 "cells": [
  {
   "cell_type": "code",
   "execution_count": 1,
   "id": "04a21b07",
   "metadata": {},
   "outputs": [],
   "source": [
    "# Настройка для исключения ошибки \n",
    "# SynchronousOnlyOperation: You cannot call this from an async context - use a thread or sync_to_async\n",
    "# https://stackoverflow.com/questions/61926359/django-synchronousonlyoperation-you-cannot-call-this-from-an-async-context-u\n",
    "import os\n",
    "import django\n",
    "os.environ.setdefault('DJANGO_SETTINGS_MODULE', 'rest.settings')\n",
    "os.environ[\"DJANGO_ALLOW_ASYNC_UNSAFE\"] = \"true\"\n",
    "django.setup()"
   ]
  },
  {
   "cell_type": "code",
   "execution_count": 5,
   "id": "b01fd1ee",
   "metadata": {},
   "outputs": [],
   "source": [
    "# Загрузка моделей\n",
    "from main.models import Institute, RID"
   ]
  },
  {
   "cell_type": "code",
   "execution_count": 6,
   "id": "e9a839d8",
   "metadata": {},
   "outputs": [
    {
     "name": "stdout",
     "output_type": "stream",
     "text": [
      "Институт Дизайна\n",
      "Институт Бизнеса\n",
      "Институт маркетинга\n",
      "Институт экономики и финансов\n"
     ]
    }
   ],
   "source": [
    "# Получение всех институтов и вывод их названия\n",
    "for i in Institute.objects.all():\n",
    "    print(i.Name)"
   ]
  },
  {
   "cell_type": "code",
   "execution_count": 7,
   "id": "8c892367",
   "metadata": {},
   "outputs": [
    {
     "data": {
      "text/plain": [
       "[<Institute: Институт Дизайна>,\n",
       " <Institute: Институт Бизнеса>,\n",
       " <Institute: Институт маркетинга>,\n",
       " <Institute: Институт экономики и финансов>]"
      ]
     },
     "execution_count": 7,
     "metadata": {},
     "output_type": "execute_result"
    }
   ],
   "source": [
    "# Вывод списком полученных данных\n",
    "institute_list = list(Institute.objects.all())\n",
    "institute_list"
   ]
  },
  {
   "cell_type": "code",
   "execution_count": 8,
   "id": "29078bcd",
   "metadata": {},
   "outputs": [
    {
     "data": {
      "text/plain": [
       "<QuerySet [<Institute: Институт Дизайна>, <Institute: Институт Бизнеса>, <Institute: Институт маркетинга>, <Institute: Институт экономики и финансов>]>"
      ]
     },
     "execution_count": 8,
     "metadata": {},
     "output_type": "execute_result"
    }
   ],
   "source": [
    "Institute.objects.all()"
   ]
  },
  {
   "cell_type": "code",
   "execution_count": 9,
   "id": "9894b431",
   "metadata": {},
   "outputs": [
    {
     "data": {
      "text/plain": [
       "<QuerySet [<RID: РИД 1>, <RID: РИД Тест 1>, <RID: РИД тест марк от 4 марта>, <RID: sdf1>, <RID: Диз5>, <RID: Диз3>, <RID: 11 march>]>"
      ]
     },
     "execution_count": 9,
     "metadata": {},
     "output_type": "execute_result"
    }
   ],
   "source": [
    "RID.objects.all()"
   ]
  },
  {
   "cell_type": "code",
   "execution_count": 12,
   "id": "43786beb",
   "metadata": {},
   "outputs": [
    {
     "data": {
      "text/plain": [
       "<RID: 11 march>"
      ]
     },
     "execution_count": 12,
     "metadata": {},
     "output_type": "execute_result"
    }
   ],
   "source": [
    "r=RID.objects.last()\n",
    "r"
   ]
  },
  {
   "cell_type": "code",
   "execution_count": 13,
   "id": "288be7a7",
   "metadata": {},
   "outputs": [
    {
     "data": {
      "text/plain": [
       "<FieldFile: Docs/Вх._письмо_от_АС__Альянс_В_Сфере_Ии__1284_от_05.03.2024__Альянс_ИИ_официальный_запрос_ГУУ.docx_v2.pdf>"
      ]
     },
     "execution_count": 13,
     "metadata": {},
     "output_type": "execute_result"
    }
   ],
   "source": [
    "r.Doc"
   ]
  },
  {
   "cell_type": "code",
   "execution_count": 14,
   "id": "139d284f",
   "metadata": {},
   "outputs": [
    {
     "data": {
      "text/plain": [
       "'/media/Docs/%D0%92%D1%85._%D0%BF%D0%B8%D1%81%D1%8C%D0%BC%D0%BE_%D0%BE%D1%82_%D0%90%D0%A1__%D0%90%D0%BB%D1%8C%D1%8F%D0%BD%D1%81_%D0%92_%D0%A1%D1%84%D0%B5%D1%80%D0%B5_%D0%98%D0%B8__1284_%D0%BE%D1%82_05.03.2024__%D0%90%D0%BB%D1%8C%D1%8F%D0%BD%D1%81_%D0%98%D0%98_%D0%BE%D1%84%D0%B8%D1%86%D0%B8%D0%B0%D0%BB%D1%8C%D0%BD%D1%8B%D0%B9_%D0%B7%D0%B0%D0%BF%D1%80%D0%BE%D1%81_%D0%93%D0%A3%D0%A3.docx_v2.pdf'"
      ]
     },
     "execution_count": 14,
     "metadata": {},
     "output_type": "execute_result"
    }
   ],
   "source": [
    "r.Doc.url"
   ]
  },
  {
   "cell_type": "code",
   "execution_count": null,
   "id": "518fb735",
   "metadata": {},
   "outputs": [],
   "source": []
  }
 ],
 "metadata": {
  "kernelspec": {
   "display_name": "Django Shell-Plus",
   "language": "python",
   "name": "django_extensions"
  },
  "language_info": {
   "codemirror_mode": {
    "name": "ipython",
    "version": 3
   },
   "file_extension": ".py",
   "mimetype": "text/x-python",
   "name": "python",
   "nbconvert_exporter": "python",
   "pygments_lexer": "ipython3",
   "version": "3.8.5"
  }
 },
 "nbformat": 4,
 "nbformat_minor": 5
}
